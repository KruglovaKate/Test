{
 "cells": [
  {
   "cell_type": "code",
   "execution_count": 10,
   "id": "e0988798",
   "metadata": {},
   "outputs": [],
   "source": [
    "import numpy as np\n",
    "from PIL import Image, ImageDraw\n",
    "from random import randint"
   ]
  },
  {
   "cell_type": "code",
   "execution_count": 11,
   "id": "a4683803",
   "metadata": {},
   "outputs": [],
   "source": [
    "class Figure():\n",
    "    def __init__(self):\n",
    "        R1 = randint(0,255)\n",
    "        G1 = randint(0,255)\n",
    "        B1 = randint(0,255)\n",
    "        R2 = randint(0,255)\n",
    "        G2 = randint(0,255)\n",
    "        B2 = randint(0,255)\n",
    "        im = Image.new('RGB', (640, 480), (R1,G1,B1))\n",
    "\n",
    "        draw = ImageDraw.Draw(im)\n",
    "        H = 480\n",
    "        W = 640\n",
    "        h = randint(150,250)\n",
    "        w = randint(150,250)\n",
    "        alpha = randint(0,89)*2*np.pi/360\n",
    "        x1 = -w/2*np.cos(alpha)-h/2*np.sin(alpha)\n",
    "        y1 = -w/2*np.sin(alpha)+h/2*np.cos(alpha)\n",
    "\n",
    "        x2 = w/2*np.cos(alpha)-h/2*np.sin(alpha)\n",
    "        y2 = w/2*np.sin(alpha)+h/2*np.cos(alpha)\n",
    "\n",
    "        x3 = w/2*np.cos(alpha)+h/2*np.sin(alpha)\n",
    "        y3 = w/2*np.sin(alpha)-h/2*np.cos(alpha)\n",
    "\n",
    "        x4 = -w/2*np.cos(alpha)+h/2*np.sin(alpha)\n",
    "        y4 = -w/2*np.sin(alpha)-h/2*np.cos(alpha)\n",
    "\n",
    "        x1 = int(x1)\n",
    "        x2 = int(x2)\n",
    "        x3 = int(x3)\n",
    "        x4 = int(x4)\n",
    "        y1 = int(y1)\n",
    "        y2 = int(y2)\n",
    "        y3 = int(y3)\n",
    "        y4 = int(y4)\n",
    "        deltax = randint(max((x1,x2,x3,x4)),(W-max((x1,x2,x3,x4))))\n",
    "        deltay = randint(max((y1,y2,y3,y4)),(H-max((y1,y2,y3,y4))))\n",
    "\n",
    "        self.x1 = x1+deltax\n",
    "        self.x2 = x2+deltax\n",
    "        self.x3 = x3+deltax\n",
    "        self.x4 = x4+deltax\n",
    "        self.y1 = y1+deltay\n",
    "        self.y2 = y2+deltay\n",
    "        self.y3 = y3+deltay\n",
    "        self.y4 = y4+deltay\n",
    "        draw.polygon((self.x1,self.y1,self.x2,self.y2,self.x3,self.y3,self.x4,self.y4), fill=(R2,G2,B2))\n",
    "        self.X_op = min((self.x1,self.x2,self.x3,self.x4))\n",
    "        self.Y_op = max((self.y1,self.y2,self.y3,self.y4))\n",
    "        self.H_op = max((self.y1,self.y2,self.y3,self.y4)) - min((self.y1,self.y2,self.y3,self.y4))\n",
    "        self.W_op = max((self.x1,self.x2,self.x3,self.x4)) - min((self.x1,self.x2,self.x3,self.x4))\n",
    "\n",
    "        self.image = np.array(im)\n",
    "    def make_figure(self):\n",
    "    \n",
    "        return self.image,self.X_op,self.Y_op,self.W_op,self.H_op,self.x1,self.y1,self.x2,self.y2,self.x3,self.y3,self.x4,self.y4\n"
   ]
  },
  {
   "cell_type": "code",
   "execution_count": 12,
   "id": "43b70b0d",
   "metadata": {},
   "outputs": [],
   "source": [
    "image = Figure()\n",
    "image,X, Y, W, H,x1,y1,x2,y2,x3,y3,x4,y4 = image.make_figure()"
   ]
  },
  {
   "cell_type": "code",
   "execution_count": 13,
   "id": "6e9d9e71",
   "metadata": {},
   "outputs": [
    {
     "data": {
      "image/png": "[encoded data removed]",
      "text/plain": [
       "<Figure size 432x288 with 1 Axes>"
      ]
     },
     "metadata": {
      "needs_background": "light"
     },
     "output_type": "display_data"
    }
   ],
   "source": [
    "plt.imshow(image)\n",
    "plt.show()"
   ]
  },
  {
   "cell_type": "code",
   "execution_count": 17,
   "id": "83a6928e",
   "metadata": {},
   "outputs": [
    {
     "name": "stdout",
     "output_type": "stream",
     "text": [
      "Описывающий прямоугольник:\n",
      " X= 343 Y= 458 W= 266 H= 274\n"
     ]
    }
   ],
   "source": [
    "print(\"Описывающий прямоугольник:\"'\\n'\" X=\",X,'Y=',Y,'W=',W,'H=',H)"
   ]
  },
  {
   "cell_type": "code",
   "execution_count": 21,
   "id": "682f0efa",
   "metadata": {},
   "outputs": [
    {
     "name": "stdout",
     "output_type": "stream",
     "text": [
      "Координаты углов:\n",
      " (x1,y1)= (343, 399) \n",
      "(x2,y2)= (547, 458) \n",
      "(x3,y3)= (609, 243) \n",
      "(x4,y4) (405, 184)\n"
     ]
    }
   ],
   "source": [
    "print(\"Координаты углов:\"'\\n'\" (x1,y1)=\",(x1,y1),'\\n''(x2,y2)=',(x2,y2),'\\n''(x3,y3)=',(x3,y3),'\\n''(x4,y4)',(x4,y4))"
   ]
  },
  {
   "cell_type": "code",
   "execution_count": 22,
   "id": "11258dd0",
   "metadata": {},
   "outputs": [
    {
     "data": {
      "image/png": "[encoded data removed]",
      "text/plain": [
       "<Figure size 432x288 with 1 Axes>"
      ]
     },
     "metadata": {
      "needs_background": "light"
     },
     "output_type": "display_data"
    }
   ],
   "source": [
    "image = Figure()\n",
    "image,X, Y, W, H,x1,y1,x2,y2,x3,y3,x4,y4 = image.make_figure()\n",
    "plt.imshow(image)\n",
    "plt.show()"
   ]
  },
  {
   "cell_type": "code",
   "execution_count": 23,
   "id": "86f5a157",
   "metadata": {},
   "outputs": [
    {
     "name": "stdout",
     "output_type": "stream",
     "text": [
      "Описывающий прямоугольник:\n",
      " X= 274 Y= 277 W= 250 H= 254\n",
      "Координаты углов:\n",
      " (x1,y1)= (274, 99) \n",
      "(x2,y2)= (354, 277) \n",
      "(x3,y3)= (524, 201) \n",
      "(x4,y4) (444, 23)\n"
     ]
    }
   ],
   "source": [
    "print(\"Описывающий прямоугольник:\"'\\n'\" X=\",X,'Y=',Y,'W=',W,'H=',H)\n",
    "print(\"Координаты углов:\"'\\n'\" (x1,y1)=\",(x1,y1),'\\n''(x2,y2)=',(x2,y2),'\\n''(x3,y3)=',(x3,y3),'\\n''(x4,y4)',(x4,y4))"
   ]
  },
  {
   "cell_type": "code",
   "execution_count": 24,
   "id": "60d7e6f3",
   "metadata": {},
   "outputs": [
    {
     "data": {
      "image/png": "[encoded data removed]",
      "text/plain": [
       "<Figure size 432x288 with 1 Axes>"
      ]
     },
     "metadata": {
      "needs_background": "light"
     },
     "output_type": "display_data"
    }
   ],
   "source": [
    "image = Figure()\n",
    "image,X, Y, W, H,x1,y1,x2,y2,x3,y3,x4,y4 = image.make_figure()\n",
    "plt.imshow(image)\n",
    "plt.show()"
   ]
  },
  {
   "cell_type": "code",
   "execution_count": 25,
   "id": "5381ccef",
   "metadata": {},
   "outputs": [
    {
     "name": "stdout",
     "output_type": "stream",
     "text": [
      "Описывающий прямоугольник:\n",
      " X= 249 Y= 450 W= 224 H= 240\n",
      "Координаты углов:\n",
      " (x1,y1)= (249, 385) \n",
      "(x2,y2)= (395, 450) \n",
      "(x3,y3)= (473, 275) \n",
      "(x4,y4) (327, 210)\n"
     ]
    }
   ],
   "source": [
    "print(\"Описывающий прямоугольник:\"'\\n'\" X=\",X,'Y=',Y,'W=',W,'H=',H)\n",
    "print(\"Координаты углов:\"'\\n'\" (x1,y1)=\",(x1,y1),'\\n''(x2,y2)=',(x2,y2),'\\n''(x3,y3)=',(x3,y3),'\\n''(x4,y4)',(x4,y4))"
   ]
  },
  {
   "cell_type": "code",
   "execution_count": 26,
   "id": "01e5c54a",
   "metadata": {},
   "outputs": [
    {
     "data": {
      "image/png": "[encoded data removed]",
      "text/plain": [
       "<Figure size 432x288 with 1 Axes>"
      ]
     },
     "metadata": {
      "needs_background": "light"
     },
     "output_type": "display_data"
    }
   ],
   "source": [
    "image = Figure()\n",
    "image,X, Y, W, H,x1,y1,x2,y2,x3,y3,x4,y4 = image.make_figure()\n",
    "plt.imshow(image)\n",
    "plt.show()"
   ]
  },
  {
   "cell_type": "code",
   "execution_count": 27,
   "id": "6d61fda8",
   "metadata": {},
   "outputs": [
    {
     "name": "stdout",
     "output_type": "stream",
     "text": [
      "Описывающий прямоугольник:\n",
      " X= 332 Y= 330 W= 240 H= 240\n",
      "Координаты углов:\n",
      " (x1,y1)= (332, 243) \n",
      "(x2,y2)= (483, 330) \n",
      "(x3,y3)= (572, 177) \n",
      "(x4,y4) (421, 90)\n"
     ]
    }
   ],
   "source": [
    "print(\"Описывающий прямоугольник:\"'\\n'\" X=\",X,'Y=',Y,'W=',W,'H=',H)\n",
    "print(\"Координаты углов:\"'\\n'\" (x1,y1)=\",(x1,y1),'\\n''(x2,y2)=',(x2,y2),'\\n''(x3,y3)=',(x3,y3),'\\n''(x4,y4)',(x4,y4))"
   ]
  },
  {
   "cell_type": "code",
   "execution_count": 28,
   "id": "3d719a76",
   "metadata": {},
   "outputs": [
    {
     "data": {
      "image/png": "[encoded data removed]",
      "text/plain": [
       "<Figure size 432x288 with 1 Axes>"
      ]
     },
     "metadata": {
      "needs_background": "light"
     },
     "output_type": "display_data"
    }
   ],
   "source": [
    "image = Figure()\n",
    "image,X, Y, W, H,x1,y1,x2,y2,x3,y3,x4,y4 = image.make_figure()\n",
    "plt.imshow(image)\n",
    "plt.show()"
   ]
  },
  {
   "cell_type": "code",
   "execution_count": 29,
   "id": "5573167e",
   "metadata": {},
   "outputs": [
    {
     "name": "stdout",
     "output_type": "stream",
     "text": [
      "Описывающий прямоугольник:\n",
      " X= 290 Y= 444 W= 274 H= 248\n",
      "Координаты углов:\n",
      " (x1,y1)= (290, 349) \n",
      "(x2,y2)= (492, 444) \n",
      "(x3,y3)= (564, 291) \n",
      "(x4,y4) (362, 196)\n"
     ]
    }
   ],
   "source": [
    "print(\"Описывающий прямоугольник:\"'\\n'\" X=\",X,'Y=',Y,'W=',W,'H=',H)\n",
    "print(\"Координаты углов:\"'\\n'\" (x1,y1)=\",(x1,y1),'\\n''(x2,y2)=',(x2,y2),'\\n''(x3,y3)=',(x3,y3),'\\n''(x4,y4)',(x4,y4))"
   ]
  },
  {
   "cell_type": "code",
   "execution_count": null,
   "id": "fd25e9c0",
   "metadata": {},
   "outputs": [],
   "source": []
  }
 ],
 "metadata": {
  "kernelspec": {
   "display_name": "Python 3",
   "language": "python",
   "name": "python3"
  },
  "language_info": {
   "codemirror_mode": {
    "name": "ipython",
    "version": 3
   },
   "file_extension": ".py",
   "mimetype": "text/x-python",
   "name": "python",
   "nbconvert_exporter": "python",
   "pygments_lexer": "ipython3",
   "version": "3.6.8"
  }
 },
 "nbformat": 4,
 "nbformat_minor": 5
}
