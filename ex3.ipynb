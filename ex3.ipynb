{
  "nbformat": 4,
  "nbformat_minor": 0,
  "metadata": {
    "colab": {
      "provenance": [],
      "collapsed_sections": [],
      "mount_file_id": "12UZgc-F4Hwx4v11-Z0nrJ3uMKXQkMNCz",
      "authorship_tag": "ABX9TyM5L1s2VsiDL0l/ztL1BBX9",
      "include_colab_link": true
    },
    "kernelspec": {
      "name": "python3",
      "display_name": "Python 3"
    },
    "language_info": {
      "name": "python"
    },
    "gpuClass": "standard"
  },
  "cells": [
    {
      "cell_type": "markdown",
      "metadata": {
        "id": "view-in-github",
        "colab_type": "text"
      },
      "source": [
        "<a href=\"https://colab.research.google.com/github/KruglovaKate/Test/blob/main/ex3.ipynb\" target=\"_parent\"><img src=\"https://colab.research.google.com/assets/colab-badge.svg\" alt=\"Open In Colab\"/></a>"
      ]
    },
    {
      "cell_type": "code",
      "execution_count": 1,
      "metadata": {
        "id": "48f74G_RBhMn"
      },
      "outputs": [],
      "source": [
        "import numpy as np\n",
        "from PIL import Image, ImageDraw\n",
        "from random import randint"
      ]
    },
    {
      "cell_type": "code",
      "source": [
        "class Figure():\n",
        "    def __init__(self):\n",
        "        R1 = randint(0,255)\n",
        "        G1 = randint(0,255)\n",
        "        B1 = randint(0,255)\n",
        "        R2 = randint(0,255)\n",
        "        G2 = randint(0,255)\n",
        "        B2 = randint(0,255)\n",
        "        im = Image.new('RGB', (640, 480), (R1,G1,B1))\n",
        "\n",
        "        draw = ImageDraw.Draw(im)\n",
        "        H = 480\n",
        "        W = 640\n",
        "        h = randint(150,250)\n",
        "        w = randint(150,250)\n",
        "        alpha = randint(0,89)*2*np.pi/360\n",
        "        x1 = -w/2*np.cos(alpha)-h/2*np.sin(alpha)\n",
        "        y1 = -w/2*np.sin(alpha)+h/2*np.cos(alpha)\n",
        "\n",
        "        x2 = w/2*np.cos(alpha)-h/2*np.sin(alpha)\n",
        "        y2 = w/2*np.sin(alpha)+h/2*np.cos(alpha)\n",
        "\n",
        "        x3 = w/2*np.cos(alpha)+h/2*np.sin(alpha)\n",
        "        y3 = w/2*np.sin(alpha)-h/2*np.cos(alpha)\n",
        "\n",
        "        x4 = -w/2*np.cos(alpha)+h/2*np.sin(alpha)\n",
        "        y4 = -w/2*np.sin(alpha)-h/2*np.cos(alpha)\n",
        "\n",
        "        x1 = int(x1)\n",
        "        x2 = int(x2)\n",
        "        x3 = int(x3)\n",
        "        x4 = int(x4)\n",
        "        y1 = int(y1)\n",
        "        y2 = int(y2)\n",
        "        y3 = int(y3)\n",
        "        y4 = int(y4)\n",
        "        deltax = randint(max((x1,x2,x3,x4)),(W-max((x1,x2,x3,x4))))\n",
        "        deltay = randint(max((y1,y2,y3,y4)),(H-max((y1,y2,y3,y4))))\n",
        "\n",
        "        self.x1 = x1+deltax\n",
        "        self.x2 = x2+deltax\n",
        "        self.x3 = x3+deltax\n",
        "        self.x4 = x4+deltax\n",
        "        self.y1 = y1+deltay\n",
        "        self.y2 = y2+deltay\n",
        "        self.y3 = y3+deltay\n",
        "        self.y4 = y4+deltay\n",
        "        draw.polygon((self.x1,self.y1,self.x2,self.y2,self.x3,self.y3,self.x4,self.y4), fill=(R2,G2,B2))\n",
        "        self.X_op = min((self.x1,self.x2,self.x3,self.x4))\n",
        "        self.Y_op = max((self.y1,self.y2,self.y3,self.y4))\n",
        "        self.H_op = max((self.y1,self.y2,self.y3,self.y4)) - min((self.y1,self.y2,self.y3,self.y4))\n",
        "        self.W_op = max((self.x1,self.x2,self.x3,self.x4)) - min((self.x1,self.x2,self.x3,self.x4))\n",
        "      #  im.save('air_samples/sample1.png','PNG')\n",
        "        self.image = np.array(im)\n",
        "    def make_figure(self):\n",
        "    \n",
        "        return self.image,self.x1,self.y1,self.x2,self.y2,self.x3,self.y3,self.x4,self.y4\n",
        "        #return self.image,self.X_op,self.Y_op,self.X_op +self.W_op,self.Y_op+ self.H_op"
      ],
      "metadata": {
        "id": "HFSGAk1ZBlTO"
      },
      "execution_count": 2,
      "outputs": []
    },
    {
      "cell_type": "code",
      "source": [
        "from torch.utils.data import Dataset\n",
        "import glob\n",
        "from PIL import Image\n",
        "import numpy as np\n",
        "from torchvision import transforms\n",
        "from torch.utils.data import DataLoader"
      ],
      "metadata": {
        "id": "cwLZdY93BlWK"
      },
      "execution_count": 3,
      "outputs": []
    },
    {
      "cell_type": "code",
      "source": [
        "class CustomDataset(Dataset):\n",
        "    def __init__(self, length, transform = None):\n",
        "      self.images = []\n",
        "      self.coord = np.zeros((length,8))\n",
        "      self.transform = transform\n",
        "      for i in range(length):\n",
        "        image = Figure()\n",
        "        im, self.coord[i,0],self.coord[i,1],self.coord[i,2],self.coord[i,3],self.coord[i,4],self.coord[i,5],self.coord[i,6],self.coord[i,7]= image.make_figure()\n",
        "        self.images.append(im)\n",
        "\n",
        "    def __getitem__(self, i):\n",
        "        if self.transform == None:\n",
        "            im = self.images[i]\n",
        "            coord = self.coord[i]\n",
        "            return im, coord\n",
        "        else:\n",
        "            im = self.transform(self.images[i])\n",
        "            coord = self.coord[i]\n",
        "            return im, coord\n",
        "\n",
        "\n",
        "    def __len__(self):\n",
        "       return len(self.images)\n",
        "    "
      ],
      "metadata": {
        "id": "d1rXe2clBlZE"
      },
      "execution_count": 4,
      "outputs": []
    },
    {
      "cell_type": "code",
      "source": [
        "train_dataset = CustomDataset(10000,transform =  transforms.Compose([transforms.ToTensor(),\n",
        "              transforms.Resize([64,64]), transforms.Normalize(mean = 0, std = 1)\n",
        "              ])) \n",
        "train_loader = DataLoader(train_dataset, batch_size = 16, shuffle =True)"
      ],
      "metadata": {
        "id": "D6bv1TVnBlcO"
      },
      "execution_count": 5,
      "outputs": []
    },
    {
      "cell_type": "code",
      "source": [
        "test_dataset = CustomDataset(1000,transform =  transforms.Compose([transforms.ToTensor(),\n",
        "              transforms.Resize([64,64]), transforms.Normalize(mean = 0, std = 1)\n",
        "              ])) \n",
        "test_loader = DataLoader(test_dataset, batch_size = 1)"
      ],
      "metadata": {
        "id": "R-9FP902R8f2"
      },
      "execution_count": 6,
      "outputs": []
    },
    {
      "cell_type": "code",
      "source": [
        "from torch.utils.data import DataLoader\n",
        "from torchvision.datasets import VisionDataset\n",
        "import torch\n",
        "from torch.utils.data import Dataset\n",
        "from torchvision import transforms\n",
        "from torchvision.transforms import ToTensor,Resize, Grayscale, Normalize\n",
        "import matplotlib.pyplot as plt\n",
        "import zipfile \n",
        "import numpy as np \n",
        "import matplotlib.pyplot as plt \n",
        "import os\n",
        "import torch.nn as nn\n",
        "import torch.nn.functional as F\n",
        "import torch.optim as optim\n",
        "from torchvision.models import resnet18"
      ],
      "metadata": {
        "id": "jw_jDy6kBle1"
      },
      "execution_count": 7,
      "outputs": []
    },
    {
      "cell_type": "code",
      "source": [
        "import torch\n",
        "from tqdm import tqdm\n",
        "def train(model, loss_function,optimizer , epochs ):\n",
        "    loss_hist = []\n",
        "    test_accuracy = []\n",
        "    train_accuracy = []\n",
        "    for epoch in range(epochs):\n",
        "        ep_loss = 0\n",
        "        for images, labels in  tqdm(train_loader):       \n",
        "            optimizer.zero_grad() \n",
        "            outputs = model.forward(images) \n",
        "            loss = loss_function(outputs.float(), labels.float()) \n",
        "            loss.backward() \n",
        "            optimizer.step() \n",
        "            ep_loss += loss.item()\n",
        "        loss_hist.append(ep_loss /len(train_loader))\n",
        "        print(f\"Epoch={epoch} loss={loss_hist[epoch]:.4}\")\n",
        "    return loss_hist"
      ],
      "metadata": {
        "id": "p_IlVWj0CwJi"
      },
      "execution_count": 8,
      "outputs": []
    },
    {
      "cell_type": "code",
      "source": [
        "from google.colab import drive\n",
        "drive.mount('/content/gdrive')"
      ],
      "metadata": {
        "colab": {
          "base_uri": "https://localhost:8080/"
        },
        "id": "PLnFPTTv45Pg",
        "outputId": "448b7788-490f-45b7-bf02-49335dfafd83"
      },
      "execution_count": 9,
      "outputs": [
        {
          "output_type": "stream",
          "name": "stdout",
          "text": [
            "Mounted at /content/gdrive\n"
          ]
        }
      ]
    },
    {
      "cell_type": "code",
      "source": [
        "device = torch.device('cuda' if torch.cuda.is_available() else 'cpu')\n",
        "print('Using device:', device)\n",
        "resnet_detector = resnet18(pretrained=True)\n",
        "resnet_detector.fc = nn.Linear(resnet_detector.fc.in_features, 8) \n",
        "optimizer = optim.RMSprop(resnet_detector.parameters(), lr=0.01, weight_decay=1e-8, momentum=0.9)\n",
        "loss_hist = train(resnet_detector,  nn.MSELoss(), optimizer, epochs = 10)\n",
        "#torch.save(resnet_detector.state_dict(), '/content/gdrive/MyDrive/resnet_detector_ep_10.pt')"
      ],
      "metadata": {
        "colab": {
          "base_uri": "https://localhost:8080/"
        },
        "id": "KbrzjIEYC5lv",
        "outputId": "da3f852b-b234-4dc9-e1c2-e6ee86934fb6"
      },
      "execution_count": 10,
      "outputs": [
        {
          "output_type": "stream",
          "name": "stdout",
          "text": [
            "Using device: cpu\n"
          ]
        },
        {
          "output_type": "stream",
          "name": "stderr",
          "text": [
            "/usr/local/lib/python3.7/dist-packages/torchvision/models/_utils.py:209: UserWarning: The parameter 'pretrained' is deprecated since 0.13 and will be removed in 0.15, please use 'weights' instead.\n",
            "  f\"The parameter '{pretrained_param}' is deprecated since 0.13 and will be removed in 0.15, \"\n",
            "/usr/local/lib/python3.7/dist-packages/torchvision/models/_utils.py:223: UserWarning: Arguments other than a weight enum or `None` for 'weights' are deprecated since 0.13 and will be removed in 0.15. The current behavior is equivalent to passing `weights=ResNet18_Weights.IMAGENET1K_V1`. You can also use `weights=ResNet18_Weights.DEFAULT` to get the most up-to-date weights.\n",
            "  warnings.warn(msg)\n",
            "100%|██████████| 625/625 [06:05<00:00,  1.71it/s]\n"
          ]
        },
        {
          "output_type": "stream",
          "name": "stdout",
          "text": [
            "Epoch=0 loss=4.941e+03\n"
          ]
        },
        {
          "output_type": "stream",
          "name": "stderr",
          "text": [
            "100%|██████████| 625/625 [06:05<00:00,  1.71it/s]\n"
          ]
        },
        {
          "output_type": "stream",
          "name": "stdout",
          "text": [
            "Epoch=1 loss=2.378e+03\n"
          ]
        },
        {
          "output_type": "stream",
          "name": "stderr",
          "text": [
            "100%|██████████| 625/625 [06:10<00:00,  1.69it/s]\n"
          ]
        },
        {
          "output_type": "stream",
          "name": "stdout",
          "text": [
            "Epoch=2 loss=1.622e+03\n"
          ]
        },
        {
          "output_type": "stream",
          "name": "stderr",
          "text": [
            "100%|██████████| 625/625 [06:21<00:00,  1.64it/s]\n"
          ]
        },
        {
          "output_type": "stream",
          "name": "stdout",
          "text": [
            "Epoch=3 loss=797.3\n"
          ]
        },
        {
          "output_type": "stream",
          "name": "stderr",
          "text": [
            "100%|██████████| 625/625 [06:30<00:00,  1.60it/s]\n"
          ]
        },
        {
          "output_type": "stream",
          "name": "stdout",
          "text": [
            "Epoch=4 loss=578.3\n"
          ]
        },
        {
          "output_type": "stream",
          "name": "stderr",
          "text": [
            "100%|██████████| 625/625 [07:36<00:00,  1.37it/s]\n"
          ]
        },
        {
          "output_type": "stream",
          "name": "stdout",
          "text": [
            "Epoch=5 loss=461.7\n"
          ]
        },
        {
          "output_type": "stream",
          "name": "stderr",
          "text": [
            "100%|██████████| 625/625 [10:14<00:00,  1.02it/s]\n"
          ]
        },
        {
          "output_type": "stream",
          "name": "stdout",
          "text": [
            "Epoch=6 loss=427.1\n"
          ]
        },
        {
          "output_type": "stream",
          "name": "stderr",
          "text": [
            "100%|██████████| 625/625 [13:33<00:00,  1.30s/it]\n"
          ]
        },
        {
          "output_type": "stream",
          "name": "stdout",
          "text": [
            "Epoch=7 loss=377.7\n"
          ]
        },
        {
          "output_type": "stream",
          "name": "stderr",
          "text": [
            "100%|██████████| 625/625 [16:34<00:00,  1.59s/it]\n"
          ]
        },
        {
          "output_type": "stream",
          "name": "stdout",
          "text": [
            "Epoch=8 loss=344.6\n"
          ]
        },
        {
          "output_type": "stream",
          "name": "stderr",
          "text": [
            "100%|██████████| 625/625 [18:57<00:00,  1.82s/it]"
          ]
        },
        {
          "output_type": "stream",
          "name": "stdout",
          "text": [
            "Epoch=9 loss=289.7\n"
          ]
        },
        {
          "output_type": "stream",
          "name": "stderr",
          "text": [
            "\n"
          ]
        }
      ]
    },
    {
      "cell_type": "code",
      "source": [
        "epoch = 10\n",
        "loss = loss_hist[9]\n",
        "torch.save({\n",
        "            'epoch': epoch,\n",
        "            'model_state_dict': resnet_detector.state_dict(),\n",
        "            'optimizer_state_dict': optimizer.state_dict(),\n",
        "            'loss': loss,\n",
        "            }, '/content/gdrive/MyDrive/_checkpoint_resnet_detector_ep_10.pt')"
      ],
      "metadata": {
        "id": "2i1-QyMKGU8g"
      },
      "execution_count": 11,
      "outputs": []
    },
    {
      "cell_type": "code",
      "source": [
        "torch.save(resnet_detector, '/content/gdrive/MyDrive/full_resnet_detector_ep_10.pt')"
      ],
      "metadata": {
        "id": "lrWcvqGnnwOr"
      },
      "execution_count": 36,
      "outputs": []
    },
    {
      "cell_type": "code",
      "source": [
        "epochs = 10\n",
        "plt.plot(range(epochs), loss_hist, label = 'train loss')\n",
        "plt.xlabel(\"Epochs\")\n",
        "plt.ylabel(\"Loss\")\n",
        "plt.ylim([100,5*10**3])\n",
        "plt.legend()\n",
        "plt.show()"
      ],
      "metadata": {
        "colab": {
          "base_uri": "https://localhost:8080/",
          "height": 283
        },
        "id": "Q6QNErKkRSvb",
        "outputId": "fe928d95-2991-40c6-d8a8-5562938e55ae"
      },
      "execution_count": 15,
      "outputs": [
        {
          "output_type": "display_data",
          "data": {
            "text/plain": [
              "<Figure size 432x288 with 1 Axes>"
            ],
            "image/png": "[encoded data removed]"
          },
          "metadata": {
            "needs_background": "light"
          }
        }
      ]
    },
    {
      "cell_type": "code",
      "source": [
        "def test(model, loss_function):\n",
        "  correct = 0\n",
        "  total = 0\n",
        "  loss_test = []\n",
        "  L2_test = []\n",
        "  \n",
        "  ep_loss = 0\n",
        "  with torch.no_grad():\n",
        "      for data in tqdm(test_loader):\n",
        "          loss_1 = 0\n",
        "          loss_2 = 0\n",
        "          loss_3 = 0\n",
        "          loss_4 = 0\n",
        "          loss_custom = 0\n",
        "          images, labels = data\n",
        "          outputs = model(images)\n",
        "\n",
        "          loss_1 = np.sqrt((outputs[:,0]-labels[:,0])**2+(outputs[:,1]-labels[:,1])**2)\n",
        "          loss_2 = np.sqrt((outputs[:,2]-labels[:,2])**2+(outputs[:,3]-labels[:,3])**2)\n",
        "          loss_3 = np.sqrt((outputs[:,4]-labels[:,4])**2+(outputs[:,5]-labels[:,5])**2)\n",
        "          loss_4 = np.sqrt((outputs[:,6]-labels[:,6])**2+(outputs[:,7]-labels[:,7])**2)\n",
        "          loss_custom = (loss_1+loss_2+loss_3+loss_4)/4\n",
        "          ep_loss += loss_custom\n",
        "          L2_test.append(loss_custom)\n",
        "          \n",
        "  loss_test.append(ep_loss /len(test_loader))\n",
        "  print(f\"loss={loss_test[0]}\")\n",
        "  \n",
        "  return loss_test, L2_test"
      ],
      "metadata": {
        "id": "csvOH2sfCGfb"
      },
      "execution_count": 12,
      "outputs": []
    },
    {
      "cell_type": "code",
      "source": [
        "loss_test, L2_test = test(resnet_detector, nn.MSELoss())"
      ],
      "metadata": {
        "colab": {
          "base_uri": "https://localhost:8080/"
        },
        "id": "zKPQbiqMCGlR",
        "outputId": "1d961aad-a40d-4ed3-8998-d9e119c12500"
      },
      "execution_count": 15,
      "outputs": [
        {
          "output_type": "stream",
          "name": "stderr",
          "text": [
            "100%|██████████| 1000/1000 [00:37<00:00, 27.00it/s]\n"
          ]
        },
        {
          "output_type": "stream",
          "name": "stdout",
          "text": [
            "loss=tensor([32.4143], dtype=torch.float64)\n"
          ]
        }
      ]
    },
    {
      "cell_type": "code",
      "source": [
        "max(L2_test)"
      ],
      "metadata": {
        "colab": {
          "base_uri": "https://localhost:8080/"
        },
        "id": "fQgitv27CGrl",
        "outputId": "422d8f12-bfd8-4f12-9357-f20cc08f13a9"
      },
      "execution_count": 17,
      "outputs": [
        {
          "output_type": "execute_result",
          "data": {
            "text/plain": [
              "tensor([177.8485], dtype=torch.float64)"
            ]
          },
          "metadata": {},
          "execution_count": 17
        }
      ]
    },
    {
      "cell_type": "code",
      "source": [
        "min(L2_test)"
      ],
      "metadata": {
        "colab": {
          "base_uri": "https://localhost:8080/"
        },
        "id": "VhjMHWTMBlle",
        "outputId": "9c2f08d3-b86e-4523-b5e2-866a70bcf7a0"
      },
      "execution_count": 18,
      "outputs": [
        {
          "output_type": "execute_result",
          "data": {
            "text/plain": [
              "tensor([6.2435], dtype=torch.float64)"
            ]
          },
          "metadata": {},
          "execution_count": 18
        }
      ]
    },
    {
      "cell_type": "markdown",
      "source": [
        "**Checkpoint в середине обучения:**\n",
        "********\n",
        "Среднее L2 = 32\n",
        "Максимум L2 = 178\n",
        "Минимум L2  = 6"
      ],
      "metadata": {
        "id": "npMLXIvA9b8N"
      }
    },
    {
      "cell_type": "code",
      "source": [
        "resnet_detector_2 = resnet18(pretrained=True)\n",
        "resnet_detector_2.fc = nn.Linear(resnet_detector_2.fc.in_features, 8) \n",
        "optimizer = optim.RMSprop(resnet_detector_2.parameters(), lr=0.01, weight_decay=1e-8, momentum=0.9)\n",
        "\n",
        "checkpoint = torch.load('/content/gdrive/MyDrive/_checkpoint_resnet_detector_ep_10.pt')\n",
        "resnet_detector_2.load_state_dict(checkpoint['model_state_dict'])\n",
        "optimizer.load_state_dict(checkpoint['optimizer_state_dict'])\n",
        "epoch = checkpoint['epoch']\n",
        "loss = checkpoint['loss']\n",
        "loss_hist = train(resnet_detector_2,  nn.MSELoss(), optimizer, epochs = 10)\n",
        "torch.save(resnet_detector_2.state_dict(), '/content/gdrive/MyDrive/resnet_detector_ep_20.pt')"
      ],
      "metadata": {
        "colab": {
          "base_uri": "https://localhost:8080/"
        },
        "id": "SRpHlGjImZSp",
        "outputId": "320793ac-5c9a-43d4-d0e9-f828a3978c72"
      },
      "execution_count": 19,
      "outputs": [
        {
          "output_type": "stream",
          "name": "stderr",
          "text": [
            "/usr/local/lib/python3.7/dist-packages/torchvision/models/_utils.py:209: UserWarning: The parameter 'pretrained' is deprecated since 0.13 and will be removed in 0.15, please use 'weights' instead.\n",
            "  f\"The parameter '{pretrained_param}' is deprecated since 0.13 and will be removed in 0.15, \"\n",
            "/usr/local/lib/python3.7/dist-packages/torchvision/models/_utils.py:223: UserWarning: Arguments other than a weight enum or `None` for 'weights' are deprecated since 0.13 and will be removed in 0.15. The current behavior is equivalent to passing `weights=ResNet18_Weights.IMAGENET1K_V1`. You can also use `weights=ResNet18_Weights.DEFAULT` to get the most up-to-date weights.\n",
            "  warnings.warn(msg)\n",
            "100%|██████████| 625/625 [20:43<00:00,  1.99s/it]\n"
          ]
        },
        {
          "output_type": "stream",
          "name": "stdout",
          "text": [
            "Epoch=0 loss=304.1\n"
          ]
        },
        {
          "output_type": "stream",
          "name": "stderr",
          "text": [
            "100%|██████████| 625/625 [20:42<00:00,  1.99s/it]\n"
          ]
        },
        {
          "output_type": "stream",
          "name": "stdout",
          "text": [
            "Epoch=1 loss=268.6\n"
          ]
        },
        {
          "output_type": "stream",
          "name": "stderr",
          "text": [
            "100%|██████████| 625/625 [20:17<00:00,  1.95s/it]\n"
          ]
        },
        {
          "output_type": "stream",
          "name": "stdout",
          "text": [
            "Epoch=2 loss=236.2\n"
          ]
        },
        {
          "output_type": "stream",
          "name": "stderr",
          "text": [
            "100%|██████████| 625/625 [22:38<00:00,  2.17s/it]\n"
          ]
        },
        {
          "output_type": "stream",
          "name": "stdout",
          "text": [
            "Epoch=3 loss=255.0\n"
          ]
        },
        {
          "output_type": "stream",
          "name": "stderr",
          "text": [
            "100%|██████████| 625/625 [24:56<00:00,  2.39s/it]\n"
          ]
        },
        {
          "output_type": "stream",
          "name": "stdout",
          "text": [
            "Epoch=4 loss=208.3\n"
          ]
        },
        {
          "output_type": "stream",
          "name": "stderr",
          "text": [
            "100%|██████████| 625/625 [24:44<00:00,  2.37s/it]\n"
          ]
        },
        {
          "output_type": "stream",
          "name": "stdout",
          "text": [
            "Epoch=5 loss=195.4\n"
          ]
        },
        {
          "output_type": "stream",
          "name": "stderr",
          "text": [
            "100%|██████████| 625/625 [22:42<00:00,  2.18s/it]\n"
          ]
        },
        {
          "output_type": "stream",
          "name": "stdout",
          "text": [
            "Epoch=6 loss=194.5\n"
          ]
        },
        {
          "output_type": "stream",
          "name": "stderr",
          "text": [
            "100%|██████████| 625/625 [21:36<00:00,  2.07s/it]\n"
          ]
        },
        {
          "output_type": "stream",
          "name": "stdout",
          "text": [
            "Epoch=7 loss=192.1\n"
          ]
        },
        {
          "output_type": "stream",
          "name": "stderr",
          "text": [
            "100%|██████████| 625/625 [21:46<00:00,  2.09s/it]\n"
          ]
        },
        {
          "output_type": "stream",
          "name": "stdout",
          "text": [
            "Epoch=8 loss=167.3\n"
          ]
        },
        {
          "output_type": "stream",
          "name": "stderr",
          "text": [
            "100%|██████████| 625/625 [24:08<00:00,  2.32s/it]\n"
          ]
        },
        {
          "output_type": "stream",
          "name": "stdout",
          "text": [
            "Epoch=9 loss=154.7\n"
          ]
        }
      ]
    },
    {
      "cell_type": "code",
      "source": [
        "loss_test2, L2_test2 = test(resnet_detector_2, nn.MSELoss())"
      ],
      "metadata": {
        "colab": {
          "base_uri": "https://localhost:8080/"
        },
        "id": "FLipJQt4UHTR",
        "outputId": "af19af19-444a-4860-ce17-df21d4444e8e"
      },
      "execution_count": 20,
      "outputs": [
        {
          "output_type": "stream",
          "name": "stderr",
          "text": [
            "100%|██████████| 1000/1000 [00:43<00:00, 23.18it/s]"
          ]
        },
        {
          "output_type": "stream",
          "name": "stdout",
          "text": [
            "loss=tensor([28.0996], dtype=torch.float64)\n"
          ]
        },
        {
          "output_type": "stream",
          "name": "stderr",
          "text": [
            "\n"
          ]
        }
      ]
    },
    {
      "cell_type": "code",
      "source": [
        "max(L2_test2)"
      ],
      "metadata": {
        "colab": {
          "base_uri": "https://localhost:8080/"
        },
        "id": "Ija3fK4BUadY",
        "outputId": "c1e60c90-133e-40ab-a172-64bdfd267213"
      },
      "execution_count": 23,
      "outputs": [
        {
          "output_type": "execute_result",
          "data": {
            "text/plain": [
              "tensor([188.3122], dtype=torch.float64)"
            ]
          },
          "metadata": {},
          "execution_count": 23
        }
      ]
    },
    {
      "cell_type": "code",
      "source": [
        "min(L2_test2)"
      ],
      "metadata": {
        "colab": {
          "base_uri": "https://localhost:8080/"
        },
        "id": "xkeglHwNUags",
        "outputId": "e6cd65cc-9bfe-43c3-af6d-0ace7d8e6aab"
      },
      "execution_count": 24,
      "outputs": [
        {
          "output_type": "execute_result",
          "data": {
            "text/plain": [
              "tensor([4.2459], dtype=torch.float64)"
            ]
          },
          "metadata": {},
          "execution_count": 24
        }
      ]
    },
    {
      "cell_type": "code",
      "source": [
        "epochs = 10\n",
        "plt.plot(range(epochs), loss_hist, label = 'train loss')\n",
        "plt.xlabel(\"Epochs\")\n",
        "plt.ylabel(\"Loss\")\n",
        "plt.ylim([100,500])\n",
        "plt.legend()\n",
        "plt.show()"
      ],
      "metadata": {
        "colab": {
          "base_uri": "https://localhost:8080/",
          "height": 283
        },
        "id": "ZrWrBZSjUHWG",
        "outputId": "85ed729c-15f6-4166-9c59-b58ee3be1a66"
      },
      "execution_count": 25,
      "outputs": [
        {
          "output_type": "display_data",
          "data": {
            "text/plain": [
              "<Figure size 432x288 with 1 Axes>"
            ],
            "image/png": "[encoded data removed]"
          },
          "metadata": {
            "needs_background": "light"
          }
        }
      ]
    },
    {
      "cell_type": "markdown",
      "source": [
        "**Cрeckpoint в конце обучения:**\n",
        "*******\n",
        "Среднее L2 = 28\n",
        "Максимум L2 = 188\n",
        "Минимум L2 = 4"
      ],
      "metadata": {
        "id": "072tYSku9__h"
      }
    }
  ]
}